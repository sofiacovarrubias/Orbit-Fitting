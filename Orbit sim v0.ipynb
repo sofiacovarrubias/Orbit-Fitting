{
 "cells": [
  {
   "cell_type": "code",
   "execution_count": 4,
   "metadata": {},
   "outputs": [],
   "source": [
    "import numpy as np\n",
    "import matplotlib.pyplot as plt"
   ]
  },
  {
   "cell_type": "code",
   "execution_count": 5,
   "metadata": {},
   "outputs": [],
   "source": [
    "def g(ms,mp,r):\n",
    "    G = 6.67*10**-11 #units N*m**2/kg**2\n",
    "    return G*(ms*mp)/r**2\n",
    "#general force of gravity equation"
   ]
  },
  {
   "cell_type": "code",
   "execution_count": 6,
   "metadata": {
    "scrolled": true
   },
   "outputs": [],
   "source": [
    "#mass of Earth in kg\n",
    "E = 6*10**24\n",
    "#mass of our moon in kg\n",
    "M = 7.5*10**22"
   ]
  },
  {
   "cell_type": "code",
   "execution_count": 7,
   "metadata": {},
   "outputs": [
    {
     "data": {
      "text/plain": [
       "[<matplotlib.lines.Line2D at 0x7ffbc44ef090>]"
      ]
     },
     "execution_count": 7,
     "metadata": {},
     "output_type": "execute_result"
    },
    {
     "data": {
      "image/png": "[encoded data removed]",
      "text/plain": [
       "<Figure size 432x288 with 1 Axes>"
      ]
     },
     "metadata": {
      "needs_background": "light"
     },
     "output_type": "display_data"
    }
   ],
   "source": [
    "#quick test\n",
    "d = np.arange(100000,1000000,100000)\n",
    "plt.plot(d,g(E,M,d))"
   ]
  },
  {
   "cell_type": "code",
   "execution_count": 14,
   "metadata": {},
   "outputs": [],
   "source": [
    "#simulator for a stationary center and a second body orbitting it\n",
    "#expects kg, kg, m, seconds(total time), seconds(step), m/s\n",
    "def one_body(mp,mm,r,t,dt,v0):  \n",
    "    tim = np.arange(1,t,dt)\n",
    "    \n",
    "    x1 = np.array([r])\n",
    "    y1 = np.array([0])\n",
    "    \n",
    "    vx = 0\n",
    "    vy = v0\n",
    "    \n",
    "    for i in tim:\n",
    "        G = 6.67*10**-11 #units N*m**2/kg**2\n",
    "        \n",
    "        rx = x1[-1] #current position\n",
    "        ry = y1[-1]\n",
    "        \n",
    "        rcurrent = np.sqrt(rx**2 + ry**2) #current distance to origin\n",
    "        theta = np.abs(np.arcsin(ry/rcurrent)) #angle between Force vector and x-axis\n",
    "        Fx = -np.sin(rx) * np.cos(theta)*(G*(mp*mm)/rcurrent**2) #current acting Force\n",
    "        Fy = -np.sin(ry) * np.sin(theta)*(G*(mp*mm)/rcurrent**2)\n",
    "        \n",
    "        ax = Fx/mm #current acting acceleration\n",
    "        ay = Fy/mm\n",
    "        \n",
    "        vx += ax * dt #finds current velocity \n",
    "        vy += ay * dt\n",
    "\n",
    "        rxf = rx + vx * dt #find next position\n",
    "        ryf = ry + vy * dt\n",
    "        \n",
    "        x1 = np.append(x1,rxf)\n",
    "        y1 = np.append(y1,ryf)\n",
    "        \n",
    "        \n",
    "    return plt.plot(x1,y1,'b.')    "
   ]
  },
  {
   "cell_type": "code",
   "execution_count": 15,
   "metadata": {
    "scrolled": true
   },
   "outputs": [
    {
     "data": {
      "text/plain": [
       "[<matplotlib.lines.Line2D at 0x7ffbc4abb5d0>]"
      ]
     },
     "execution_count": 15,
     "metadata": {},
     "output_type": "execute_result"
    },
    {
     "data": {
      "image/png": "[encoded data removed]",
      "text/plain": [
       "<Figure size 432x288 with 1 Axes>"
      ]
     },
     "metadata": {
      "needs_background": "light"
     },
     "output_type": "display_data"
    }
   ],
   "source": [
    "scyc = 648*3600 #648 hrs in one moon cycle aorund the Earth  \n",
    "d = 384400*1000 #384400 km from Earth to moon\n",
    "ms = 1022 #avd speed of moon in m/s\n",
    "\n",
    "one_body(E,M,d,scyc,3600,1022)"
   ]
  },
  {
   "cell_type": "code",
   "execution_count": null,
   "metadata": {},
   "outputs": [],
   "source": [
    "#getting equations together\n",
    "a = F/m #for each mass\n",
    "v = a*dt+v"
   ]
  },
  {
   "cell_type": "code",
   "execution_count": 6,
   "metadata": {},
   "outputs": [],
   "source": [
    "#including time dependence\n",
    "def rt(mp,mm,s,r0):\n",
    "    #mp:first mass input (expects kg)\n",
    "    #mm:second mass input (expects kg)\n",
    "    #s:the time each position will be seperated by(AKA dt)\n",
    "    #r0: initial distance between the two bodies\n",
    "    \n",
    "    dt = tm[1]-tm[0] #assuming even line space\n",
    "    for s in tm:\n",
    "        tim1 = np.array([])\n",
    "        np.append(tim1,s) #creates a time scale\n",
    "        \n",
    "    x1 = np.array([]) #where 1 represents mp\n",
    "    y1 = np.array([])\n",
    "    \n",
    "    x2 = np.array([]) #where 2 represents mm\n",
    "    y2 = np.array([])\n",
    "        \n",
    "    for i in tim1:    \n",
    "        G = 6.67*10**-11 #units N*m**2/kg**2\n",
    "        fg = G*(ms*mp)/ri**2 #general force of gravity equation\n",
    "        \n",
    "        ddr1 = fg/mp\n",
    "        dr1 = dr +  \n",
    "    \n",
    "    \n",
    "    return r(t-dt)+v(t-dt)+a*dt\n",
    "t = np.arange(1000,2.6*10**6,5000)"
   ]
  },
  {
   "cell_type": "code",
   "execution_count": null,
   "metadata": {},
   "outputs": [],
   "source": []
  },
  {
   "cell_type": "code",
   "execution_count": 93,
   "metadata": {},
   "outputs": [
    {
     "data": {
      "text/plain": [
       "59.99999999999999"
      ]
     },
     "execution_count": 93,
     "metadata": {},
     "output_type": "execute_result"
    }
   ],
   "source": [
    "x = np.arcsin(np.sqrt(3)/2)\n",
    "(360*x)/(2*np.pi)"
   ]
  },
  {
   "cell_type": "code",
   "execution_count": 1,
   "metadata": {},
   "outputs": [
    {
     "data": {
      "text/plain": [
       "9"
      ]
     },
     "execution_count": 1,
     "metadata": {},
     "output_type": "execute_result"
    }
   ],
   "source": []
  },
  {
   "cell_type": "code",
   "execution_count": 3,
   "metadata": {},
   "outputs": [
    {
     "data": {
      "text/plain": [
       "10"
      ]
     },
     "execution_count": 3,
     "metadata": {},
     "output_type": "execute_result"
    }
   ],
   "source": [
    "98//9"
   ]
  },
  {
   "cell_type": "code",
   "execution_count": null,
   "metadata": {},
   "outputs": [],
   "source": []
  },
  {
   "cell_type": "code",
   "execution_count": 11,
   "metadata": {},
   "outputs": [
    {
     "ename": "SyntaxError",
     "evalue": "invalid syntax (<ipython-input-11-0b88232b21d6>, line 23)",
     "output_type": "error",
     "traceback": [
      "\u001b[0;36m  File \u001b[0;32m\"<ipython-input-11-0b88232b21d6>\"\u001b[0;36m, line \u001b[0;32m23\u001b[0m\n\u001b[0;31m    vxstart =\u001b[0m\n\u001b[0m               ^\u001b[0m\n\u001b[0;31mSyntaxError\u001b[0m\u001b[0;31m:\u001b[0m invalid syntax\n"
     ]
    }
   ],
   "source": []
  }
 ],
 "metadata": {
  "kernelspec": {
   "display_name": "Python 3",
   "language": "python",
   "name": "python3"
  },
  "language_info": {
   "codemirror_mode": {
    "name": "ipython",
    "version": 3
   },
   "file_extension": ".py",
   "mimetype": "text/x-python",
   "name": "python",
   "nbconvert_exporter": "python",
   "pygments_lexer": "ipython3",
   "version": "3.7.6"
  }
 },
 "nbformat": 4,
 "nbformat_minor": 4
}
