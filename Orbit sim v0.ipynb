{
 "cells": [
  {
   "cell_type": "code",
   "execution_count": 1,
   "metadata": {},
   "outputs": [],
   "source": [
    "import numpy as np\n",
    "import matplotlib.pyplot as plt\n",
    "import time #for speed of code only "
   ]
  },
  {
   "cell_type": "code",
   "execution_count": 2,
   "metadata": {},
   "outputs": [],
   "source": [
    "def g(ms,mp,r):\n",
    "    G = 6.67*10**-11 #units N*m**2/kg**2\n",
    "    return G*(ms*mp)/r**2\n",
    "#general force of gravity equation"
   ]
  },
  {
   "cell_type": "code",
   "execution_count": 3,
   "metadata": {
    "scrolled": true
   },
   "outputs": [],
   "source": [
    "#mass of Earth in kg\n",
    "E = 6*10**24\n",
    "#mass of our moon in kg\n",
    "M = 7.5*10**22"
   ]
  },
  {
   "cell_type": "code",
   "execution_count": 6,
   "metadata": {},
   "outputs": [
    {
     "data": {
      "text/plain": [
       "[<matplotlib.lines.Line2D at 0x7fc3845ef710>]"
      ]
     },
     "execution_count": 6,
     "metadata": {},
     "output_type": "execute_result"
    },
    {
     "data": {
      "image/png": "[encoded data removed]",
      "text/plain": [
       "<Figure size 432x288 with 1 Axes>"
      ]
     },
     "metadata": {
      "needs_background": "light"
     },
     "output_type": "display_data"
    }
   ],
   "source": [
    "#quick test\n",
    "d = np.arange(100000,1000000,100000)\n",
    "plt.plot(d,g(E,M,d))"
   ]
  },
  {
   "cell_type": "markdown",
   "metadata": {},
   "source": [
    "# Single-Body Simulator"
   ]
  },
  {
   "cell_type": "code",
   "execution_count": 4,
   "metadata": {},
   "outputs": [],
   "source": [
    "#simulator for a stationary center and a second body orbitting it\n",
    "#expects kg, kg, m, seconds(total time), seconds(step), m/s\n",
    "def one_body(mp,mm,r,t,dt,v0):  \n",
    "    tim = np.arange(1,t,dt)\n",
    "    \n",
    "    x1 = np.array([r])\n",
    "    y1 = np.array([0])\n",
    "    \n",
    "    vx = 0\n",
    "    vy = v0\n",
    "    \n",
    "    for i in tim:\n",
    "        G = 6.67*10**-11 #units N*m**2/kg**2\n",
    "        \n",
    "        rx = x1[-1] #current position\n",
    "        ry = y1[-1]\n",
    "        \n",
    "        rcurrent = np.sqrt(rx**2 + ry**2) #current distance to origin\n",
    "        theta = np.abs(np.arcsin(ry/rcurrent)) #angle between Force vector and x-axis\n",
    "        Fx = -np.sign(rx) * np.cos(theta)*(G*(mp*mm)/rcurrent**2) #current acting Force\n",
    "        Fy = -np.sign(ry) * np.sin(theta)*(G*(mp*mm)/rcurrent**2)\n",
    "        \n",
    "        ax = Fx/mm #current acting acceleration\n",
    "        ay = Fy/mm\n",
    "        \n",
    "        vx += ax * dt #finds current velocity \n",
    "        vy += ay * dt\n",
    "\n",
    "        rxf = rx + vx * dt #find next position\n",
    "        ryf = ry + vy * dt\n",
    "        \n",
    "        x1 = np.append(x1,rxf)\n",
    "        y1 = np.append(y1,ryf)\n",
    "        \n",
    "        \n",
    "    return plt.plot(x1,y1,'b.', markersize=2), plt.plot(0,0,'y*'), plt.plot(r,0,'b^'), plt.xlabel('meters'), plt.ylabel('meters')"
   ]
  },
  {
   "cell_type": "code",
   "execution_count": 5,
   "metadata": {
    "scrolled": true
   },
   "outputs": [
    {
     "data": {
      "text/plain": [
       "([<matplotlib.lines.Line2D at 0x7fc47037ffd0>],\n",
       " [<matplotlib.lines.Line2D at 0x7fc4702638d0>],\n",
       " [<matplotlib.lines.Line2D at 0x7fc47049bc10>],\n",
       " Text(0.5, 0, 'meters'),\n",
       " Text(0, 0.5, 'meters'))"
      ]
     },
     "execution_count": 5,
     "metadata": {},
     "output_type": "execute_result"
    },
    {
     "data": {
      "image/png": "[encoded data removed]",
      "text/plain": [
       "<Figure size 432x288 with 1 Axes>"
      ]
     },
     "metadata": {
      "needs_background": "light"
     },
     "output_type": "display_data"
    }
   ],
   "source": [
    "scyc = 648*3600 #648 hrs in one moon cycle aorund the Earth  \n",
    "d = 384400*1000 #384400 km from Earth to moon\n",
    "ms = 1022 #avd speed of moon in m/s\n",
    "\n",
    "one_body(E,M,d,scyc,3600,1022)\n"
   ]
  },
  {
   "cell_type": "markdown",
   "metadata": {},
   "source": [
    "# Two-Body Simulator"
   ]
  },
  {
   "cell_type": "code",
   "execution_count": 43,
   "metadata": {},
   "outputs": [],
   "source": [
    "#mp:first mass input (kg)\n",
    "#vp0:initial velocity of mp\n",
    "#mm:second mass input (kg)\n",
    "#vm0:initial velocity of mm\n",
    "#r:initial distance between the two bodies (m)\n",
    "#t:total time the simulation will run (seconds)\n",
    "#dt:time step increment (seconds)\n",
    "\n",
    "def two_body(mp,vp0,mm,vm0,r,t,dt):\n",
    "    t1 = time.time()\n",
    "    \n",
    "    ttot = t//dt #number of time points \n",
    "    tim2 = np.linspace(1,t,ttot)\n",
    "    \n",
    "    x1 = np.zeros(ttot) #where 1 represents mp\n",
    "    y1 = np.zeros(ttot)\n",
    "    vx1 = 0\n",
    "    vy1 = vp0\n",
    "    \n",
    "    x2 = np.zeros(ttot) #where 2 represents mm\n",
    "    x2[0] = r\n",
    "    y2 = np.zeros(ttot)\n",
    "    vx2 = 0\n",
    "    vy2 = vm0\n",
    "    \n",
    "    place_holder = np.arange(ttot-1)\n",
    "\n",
    "        \n",
    " \n",
    "    for i in place_holder:    \n",
    "        G = 6.67*10**-11 #units N*m**2/kg**2\n",
    "        \n",
    "        rx1 = x1[i] #position of mp\n",
    "        ry1 = y1[i]\n",
    "    \n",
    "        rx2 = x2[i] #position of mm\n",
    "        ry2 = y2[i]\n",
    "        \n",
    "        rcurrent = np.sqrt((rx2-rx1)**2+((ry2-ry1)**2)) #current distance between bodies\n",
    "        Fg = G*(mp*mm)/rcurrent**2 #current force of gravity\n",
    "        \n",
    "        \n",
    "        #mp\n",
    "        theta = np.abs(np.arcsin(ry1/rcurrent)) #angle between Force vector and x-axis\n",
    "        Fx1 = np.sign(rx2-rx1) * np.cos(theta)*(Fg) #current acting Force\n",
    "        Fy1 = np.sign(ry2-ry1) * np.sin(theta)*(Fg)\n",
    "        \n",
    "        ax1 = Fx1/mp #current acting acceleration, velocity, next pos for mp \n",
    "        ay1 = Fy1/mp\n",
    "        vx1 += ax1 * dt\n",
    "        vy1 += ay1 * dt\n",
    "        x1[i+1] = rx1 + vx1 * dt #adds next pos to pos array\n",
    "        y1[i+1] = ry1 + vy1 * dt\n",
    "    \n",
    "        \n",
    "        #mm\n",
    "        omega = np.abs(np.arcsin(ry2/rcurrent)) #angle between Force vector and x-axis\n",
    "        Fx2 = -np.sign(rx2-rx1) * np.cos(omega)*(Fg) #current acting Force\n",
    "        Fy2 = -np.sign(ry2-ry1) * np.sin(omega)*(Fg)\n",
    "    \n",
    "        ax2 = Fx2/mm #current acting acceleration, velocity, next pos for mp\n",
    "        ay2 = Fy2/mm\n",
    "        vx2 += ax2 * dt \n",
    "        vy2 += ay2 * dt\n",
    "        x2[i+1] = rx2 + vx2 * dt\n",
    "        y2[i+1] = ry2 + vy2 * dt\n",
    "        \n",
    "    t2 = time.time()\n",
    "    \n",
    "    return (plt.plot(x1,y1,'b', markersize = 1), \n",
    "            plt.plot(x2,y2,'r', markersize = 1), \n",
    "            plt.plot(0,0,'b^'), plt.plot(r,0,'rv'), \n",
    "            plt.show(), print('Completed in ',t2-t1,' seconds'))"
   ]
  },
  {
   "cell_type": "code",
   "execution_count": 44,
   "metadata": {},
   "outputs": [
    {
     "data": {
      "image/png": "[encoded data removed]",
      "text/plain": [
       "<Figure size 432x288 with 1 Axes>"
      ]
     },
     "metadata": {
      "needs_background": "light"
     },
     "output_type": "display_data"
    },
    {
     "name": "stdout",
     "output_type": "stream",
     "text": [
      "Completed in  4.998232126235962  seconds\n"
     ]
    },
    {
     "data": {
      "text/plain": [
       "([<matplotlib.lines.Line2D at 0x7fae12835090>],\n",
       " [<matplotlib.lines.Line2D at 0x7fae12835610>],\n",
       " [<matplotlib.lines.Line2D at 0x7fae12835bd0>],\n",
       " [<matplotlib.lines.Line2D at 0x7fae1282a150>],\n",
       " None,\n",
       " None)"
      ]
     },
     "execution_count": 44,
     "metadata": {},
     "output_type": "execute_result"
    }
   ],
   "source": [
    "#mp:first mass input (kg)\n",
    "#vp0:initial velocity of mp\n",
    "#mm:second mass input (kg)\n",
    "#vm0:initial velocity of mm\n",
    "#r:initial distance between the two bodies (m)\n",
    "#t:total time the simulation will run (seconds)\n",
    "#dt:time step increment (seconds)\n",
    "\n",
    "two_body(M,50,M,-50,d,10*scyc,100)"
   ]
  },
  {
   "cell_type": "markdown",
   "metadata": {},
   "source": [
    "# Three-Body Simulator"
   ]
  },
  {
   "cell_type": "code",
   "execution_count": null,
   "metadata": {},
   "outputs": [],
   "source": [
    "#copied from 2B for now \n",
    "\n",
    "def three_body(mp,vp0,mm,vm0,r,t,dt):\n",
    "    ttot = t//dt #number of time points \n",
    "    tim2 = np.linspace(1,t,ttot)\n",
    "    \n",
    "    x1 = np.zeros(ttot) #where 1 represents mp\n",
    "    y1 = np.zeros(ttot)\n",
    "    vx1 = 0\n",
    "    vy1 = vp0\n",
    "    \n",
    "    x2 = np.zeros(ttot) #where 2 represents mm\n",
    "    x2[0] = r\n",
    "    y2 = np.zeros(ttot)\n",
    "    vx2 = 0\n",
    "    vy2 = vm0\n",
    "    \n",
    "    place_holder = np.arange(ttot-1)\n",
    "\n",
    "        \n",
    " \n",
    "    for i in place_holder:    \n",
    "        G = 6.67*10**-11 #units N*m**2/kg**2\n",
    "        \n",
    "        rx1 = x1[i] #position of mp\n",
    "        ry1 = y1[i]\n",
    "    \n",
    "        rx2 = x2[i] #position of mm\n",
    "        ry2 = y2[i]\n",
    "        \n",
    "        rcurrent = np.sqrt((rx2-rx1)**2+((ry2-ry1)**2)) #current distance between bodies\n",
    "        Fg = G*(mp*mm)/rcurrent**2 #current force of gravity\n",
    "        \n",
    "        \n",
    "        #mp\n",
    "        theta = np.abs(np.arcsin(ry1/rcurrent)) #angle between Force vector and x-axis\n",
    "        Fx1 = np.sign(rx2-rx1) * np.cos(theta)*(Fg) #current acting Force\n",
    "        Fy1 = np.sign(ry2-ry1) * np.sin(theta)*(Fg)\n",
    "        \n",
    "        ax1 = Fx1/mp #current acting acceleration, velocity, next pos for mp \n",
    "        ay1 = Fy1/mp\n",
    "        vx1 += ax1 * dt\n",
    "        vy1 += ay1 * dt\n",
    "        x1[i+1] = rx1 + vx1 * dt #adds next pos to pos array\n",
    "        y1[i+1] = ry1 + vy1 * dt\n",
    "    \n",
    "        \n",
    "        #mm\n",
    "        omega = np.abs(np.arcsin(ry2/rcurrent)) #angle between Force vector and x-axis\n",
    "        Fx2 = -np.sign(rx2-rx1) * np.cos(omega)*(Fg) #current acting Force\n",
    "        Fy2 = -np.sign(ry2-ry1) * np.sin(omega)*(Fg)\n",
    "    \n",
    "        ax2 = Fx2/mm #current acting acceleration, velocity, next pos for mp\n",
    "        ay2 = Fy2/mm\n",
    "        vx2 += ax2 * dt \n",
    "        vy2 += ay2 * dt\n",
    "        x2[i+1] = rx2 + vx2 * dt\n",
    "        y2[i+1] = ry2 + vy2 * dt\n",
    "        \n",
    "    \n",
    "    return plt.plot(x1,y1,'b.'), plt.plot(x2,y2,'r.'), plt.show()"
   ]
  },
  {
   "cell_type": "code",
   "execution_count": null,
   "metadata": {},
   "outputs": [],
   "source": []
  },
  {
   "cell_type": "code",
   "execution_count": null,
   "metadata": {},
   "outputs": [],
   "source": []
  },
  {
   "cell_type": "code",
   "execution_count": null,
   "metadata": {},
   "outputs": [],
   "source": []
  },
  {
   "cell_type": "code",
   "execution_count": null,
   "metadata": {},
   "outputs": [],
   "source": []
  },
  {
   "cell_type": "code",
   "execution_count": null,
   "metadata": {},
   "outputs": [],
   "source": []
  },
  {
   "cell_type": "code",
   "execution_count": null,
   "metadata": {},
   "outputs": [],
   "source": []
  },
  {
   "cell_type": "code",
   "execution_count": null,
   "metadata": {},
   "outputs": [],
   "source": []
  },
  {
   "cell_type": "code",
   "execution_count": null,
   "metadata": {},
   "outputs": [],
   "source": []
  },
  {
   "cell_type": "markdown",
   "metadata": {},
   "source": [
    "# N-Body Simulator"
   ]
  },
  {
   "cell_type": "code",
   "execution_count": null,
   "metadata": {},
   "outputs": [],
   "source": [
    "#repurposed code from General-Small-Programs\n",
    "import pandas as pd\n",
    "\n",
    "def NBody(t,dt):\n",
    "    o = input('How many bodies would you like to simulate? ')\n",
    "    while type(o) == np.int32 or type(hw) == np.float64:\n",
    "        nb = np.arange(1,o+1,1) #makes a number of bodies \n",
    "        \n",
    "        ttot = t//dt #number of time points\n",
    "        tim = np.linspace(0,t,ttot)\n",
    "    \n",
    "        rx = np.zeroes(ttot)\n",
    "        np.zeroes()\n",
    "        \n",
    "        Posx = pd.DataFrame([])\n",
    "        Posy = pd.DataFrame([])\n",
    "        for i in nb:\n",
    "            tim = np.arange(1,t,dt)\n",
    "    \n",
    "            x1 = np.array([r])\n",
    "            y1 = np.array([0])\n",
    "    \n",
    "            vx = 0\n",
    "            vy = v0\n",
    "    \n",
    "            for i in tim:\n",
    "                G = 6.67*10**-11 #units N*m**2/kg**2\n",
    "        \n",
    "                rx = x1[-1] #current position\n",
    "                ry = y1[-1]\n",
    "        \n",
    "                rcurrent = np.sqrt(rx**2 + ry**2) #current distance to origin\n",
    "                theta = np.abs(np.arcsin(ry/rcurrent)) #angle between Force vector and x-axis\n",
    "                Fx = -np.sign(rx) * np.cos(theta)*(G*(mp*mm)/rcurrent**2) #current acting Force\n",
    "                Fy = -np.sign(ry) * np.sin(theta)*(G*(mp*mm)/rcurrent**2)\n",
    "        \n",
    "                ax = Fx/mm #current acting acceleration\n",
    "                ay = Fy/mm\n",
    "        \n",
    "                vx += ax * dt #finds current velocity \n",
    "                vy += ay * dt\n",
    "\n",
    "                rxf = rx + vx * dt #find next position\n",
    "                ryf = ry + vy * dt\n",
    "        \n",
    "                x1 = np.append(x1,rxf)\n",
    "                y1 = np.append(y1,ryf)\n",
    "        \n",
    "    \n",
    "    \n",
    "    \n",
    "    \n",
    "    break    \n",
    "    return plt.plot(x1,y1,'b.'), plt.plot(0,0,'y*')"
   ]
  },
  {
   "cell_type": "code",
   "execution_count": null,
   "metadata": {},
   "outputs": [],
   "source": [
    "masses = ()\n",
    "\n",
    "def rt(mp,mm,r,t,dt,v0):  \n",
    "    tim = np.arange(1,t,dt)\n",
    "    \n",
    "    x1 = np.array([r])\n",
    "    y1 = np.array([0])\n",
    "    \n",
    "    vx = 0\n",
    "    vy = v0\n",
    "    \n",
    "    for i in tim:\n",
    "        G = 6.67*10**-11 #units N*m**2/kg**2\n",
    "        \n",
    "        rx = x1[-1] #current position\n",
    "        ry = y1[-1]\n",
    "        \n",
    "        rcurrent = np.sqrt(rx**2 + ry**2) #current distance to origin\n",
    "        theta = np.abs(np.arcsin(ry/rcurrent)) #angle between Force vector and x-axis\n",
    "        Fx = -np.sign(rx) * np.cos(theta)*(G*(mp*mm)/rcurrent**2) #current acting Force\n",
    "        Fy = -np.sign(ry) * np.sin(theta)*(G*(mp*mm)/rcurrent**2)\n",
    "        \n",
    "        ax = Fx/mm #current acting acceleration\n",
    "        ay = Fy/mm\n",
    "        \n",
    "        vx += ax * dt #finds current velocity \n",
    "        vy += ay * dt\n",
    "\n",
    "        rxf = rx + vx * dt #find next position\n",
    "        ryf = ry + vy * dt\n",
    "        \n",
    "        x1 = np.append(x1,rxf)\n",
    "        y1 = np.append(y1,ryf)\n",
    "        \n",
    "        \n",
    "    return plt.plot(x1,y1,'b.'), plt.plot(0,0,'y*')"
   ]
  },
  {
   "cell_type": "code",
   "execution_count": null,
   "metadata": {},
   "outputs": [],
   "source": []
  },
  {
   "cell_type": "code",
   "execution_count": 16,
   "metadata": {},
   "outputs": [
    {
     "data": {
      "text/plain": [
       "([7, 8, 9], [1, 2, 3], [5, 6, 7])"
      ]
     },
     "execution_count": 16,
     "metadata": {},
     "output_type": "execute_result"
    }
   ],
   "source": [
    "import numpy as np\n",
    "cheese = [7,8,9],[1,2,3],[5,6,7]\n",
    "print(cheese)"
   ]
  },
  {
   "cell_type": "code",
   "execution_count": 29,
   "metadata": {},
   "outputs": [],
   "source": [
    "def x(i):\n",
    "    p = i + 2\n",
    "    return(i,i+3)"
   ]
  },
  {
   "cell_type": "code",
   "execution_count": 30,
   "metadata": {},
   "outputs": [
    {
     "data": {
      "text/plain": [
       "(9, 12)"
      ]
     },
     "execution_count": 30,
     "metadata": {},
     "output_type": "execute_result"
    }
   ],
   "source": [
    "x(9)"
   ]
  },
  {
   "cell_type": "code",
   "execution_count": null,
   "metadata": {},
   "outputs": [],
   "source": []
  }
 ],
 "metadata": {
  "kernelspec": {
   "display_name": "Python 3",
   "language": "python",
   "name": "python3"
  },
  "language_info": {
   "codemirror_mode": {
    "name": "ipython",
    "version": 3
   },
   "file_extension": ".py",
   "mimetype": "text/x-python",
   "name": "python",
   "nbconvert_exporter": "python",
   "pygments_lexer": "ipython3",
   "version": "3.7.6"
  }
 },
 "nbformat": 4,
 "nbformat_minor": 4
}
