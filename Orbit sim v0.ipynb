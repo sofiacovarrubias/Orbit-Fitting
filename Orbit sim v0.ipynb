{
 "cells": [
  {
   "cell_type": "code",
   "execution_count": 3,
   "metadata": {},
   "outputs": [],
   "source": [
    "import numpy as np\n",
    "import matplotlib.pyplot as plt"
   ]
  },
  {
   "cell_type": "code",
   "execution_count": 4,
   "metadata": {},
   "outputs": [],
   "source": [
    "def g(ms,mp,r):\n",
    "    G = 6.67*10**-11 #units N*m**2/kg**2\n",
    "    return G*(ms*mp)/r**2\n",
    "#general force of gravity equation"
   ]
  },
  {
   "cell_type": "code",
   "execution_count": 5,
   "metadata": {
    "scrolled": true
   },
   "outputs": [],
   "source": [
    "#mass of Earth in kg\n",
    "E = 6*10**24\n",
    "#mass of our moon in kg\n",
    "M = 7.5*10**22"
   ]
  },
  {
   "cell_type": "code",
   "execution_count": 6,
   "metadata": {},
   "outputs": [
    {
     "data": {
      "text/plain": [
       "[<matplotlib.lines.Line2D at 0x7fc3845ef710>]"
      ]
     },
     "execution_count": 6,
     "metadata": {},
     "output_type": "execute_result"
    },
    {
     "data": {
      "image/png": "[encoded data removed]",
      "text/plain": [
       "<Figure size 432x288 with 1 Axes>"
      ]
     },
     "metadata": {
      "needs_background": "light"
     },
     "output_type": "display_data"
    }
   ],
   "source": [
    "#quick test\n",
    "d = np.arange(100000,1000000,100000)\n",
    "plt.plot(d,g(E,M,d))"
   ]
  },
  {
   "cell_type": "markdown",
   "metadata": {},
   "source": [
    "# Single-Body Simulator"
   ]
  },
  {
   "cell_type": "code",
   "execution_count": 7,
   "metadata": {},
   "outputs": [],
   "source": [
    "#simulator for a stationary center and a second body orbitting it\n",
    "#expects kg, kg, m, seconds(total time), seconds(step), m/s\n",
    "def one_body(mp,mm,r,t,dt,v0):  \n",
    "    tim = np.arange(1,t,dt)\n",
    "    \n",
    "    x1 = np.array([r])\n",
    "    y1 = np.array([0])\n",
    "    \n",
    "    vx = 0\n",
    "    vy = v0\n",
    "    \n",
    "    for i in tim:\n",
    "        G = 6.67*10**-11 #units N*m**2/kg**2\n",
    "        \n",
    "        rx = x1[-1] #current position\n",
    "        ry = y1[-1]\n",
    "        \n",
    "        rcurrent = np.sqrt(rx**2 + ry**2) #current distance to origin\n",
    "        theta = np.abs(np.arcsin(ry/rcurrent)) #angle between Force vector and x-axis\n",
    "        Fx = -np.sign(rx) * np.cos(theta)*(G*(mp*mm)/rcurrent**2) #current acting Force\n",
    "        Fy = -np.sign(ry) * np.sin(theta)*(G*(mp*mm)/rcurrent**2)\n",
    "        \n",
    "        ax = Fx/mm #current acting acceleration\n",
    "        ay = Fy/mm\n",
    "        \n",
    "        vx += ax * dt #finds current velocity \n",
    "        vy += ay * dt\n",
    "\n",
    "        rxf = rx + vx * dt #find next position\n",
    "        ryf = ry + vy * dt\n",
    "        \n",
    "        x1 = np.append(x1,rxf)\n",
    "        y1 = np.append(y1,ryf)\n",
    "        \n",
    "        \n",
    "    return plt.plot(x1,y1,'b.'), plt.plot(0,0,'y*')"
   ]
  },
  {
   "cell_type": "code",
   "execution_count": 8,
   "metadata": {
    "scrolled": true
   },
   "outputs": [
    {
     "data": {
      "text/plain": [
       "([<matplotlib.lines.Line2D at 0x7fc3846e6f10>],\n",
       " [<matplotlib.lines.Line2D at 0x7fc384760550>])"
      ]
     },
     "execution_count": 8,
     "metadata": {},
     "output_type": "execute_result"
    },
    {
     "data": {
      "image/png": "[encoded data removed]",
      "text/plain": [
       "<Figure size 432x288 with 1 Axes>"
      ]
     },
     "metadata": {
      "needs_background": "light"
     },
     "output_type": "display_data"
    }
   ],
   "source": [
    "scyc = 648*3600 #648 hrs in one moon cycle aorund the Earth  \n",
    "d = 384400*1000 #384400 km from Earth to moon\n",
    "ms = 1022 #avd speed of moon in m/s\n",
    "\n",
    "one_body(E,M,d,scyc,3600,1022)\n"
   ]
  },
  {
   "cell_type": "markdown",
   "metadata": {},
   "source": [
    "# Two-Body Simulator"
   ]
  },
  {
   "cell_type": "code",
   "execution_count": 9,
   "metadata": {},
   "outputs": [
    {
     "ename": "NameError",
     "evalue": "name 'F' is not defined",
     "output_type": "error",
     "traceback": [
      "\u001b[0;31m---------------------------------------------------------------------------\u001b[0m",
      "\u001b[0;31mNameError\u001b[0m                                 Traceback (most recent call last)",
      "\u001b[0;32m<ipython-input-9-8cdaa1729cf3>\u001b[0m in \u001b[0;36m<module>\u001b[0;34m\u001b[0m\n\u001b[1;32m      1\u001b[0m \u001b[0;31m#equations for reference\u001b[0m\u001b[0;34m\u001b[0m\u001b[0;34m\u001b[0m\u001b[0;34m\u001b[0m\u001b[0m\n\u001b[0;32m----> 2\u001b[0;31m \u001b[0ma\u001b[0m \u001b[0;34m=\u001b[0m \u001b[0mF\u001b[0m\u001b[0;34m/\u001b[0m\u001b[0mm\u001b[0m \u001b[0;31m#for each mass\u001b[0m\u001b[0;34m\u001b[0m\u001b[0;34m\u001b[0m\u001b[0m\n\u001b[0m\u001b[1;32m      3\u001b[0m \u001b[0mvf\u001b[0m \u001b[0;34m=\u001b[0m \u001b[0mv0\u001b[0m \u001b[0;34m+\u001b[0m \u001b[0ma\u001b[0m\u001b[0;34m*\u001b[0m\u001b[0mdt\u001b[0m\u001b[0;34m\u001b[0m\u001b[0;34m\u001b[0m\u001b[0m\n\u001b[1;32m      4\u001b[0m \u001b[0mxf\u001b[0m \u001b[0;34m=\u001b[0m \u001b[0mx0\u001b[0m \u001b[0;34m+\u001b[0m \u001b[0mv\u001b[0m\u001b[0;34m*\u001b[0m\u001b[0mt\u001b[0m\u001b[0;34m\u001b[0m\u001b[0;34m\u001b[0m\u001b[0m\n",
      "\u001b[0;31mNameError\u001b[0m: name 'F' is not defined"
     ]
    }
   ],
   "source": [
    "#equations for reference\n",
    "a = F/m #for each mass\n",
    "vf = v0 + a*dt\n",
    "xf = x0 + v*t"
   ]
  },
  {
   "cell_type": "code",
   "execution_count": 10,
   "metadata": {},
   "outputs": [],
   "source": [
    "#mp:first mass input (kg)\n",
    "#vp0:initial velocity of mp\n",
    "#mm:second mass input (kg)\n",
    "#vm0:initial velocity of mm\n",
    "#r:initial distance between the two bodies (m)\n",
    "#t:total time the simulation will run (seconds)\n",
    "#dt:time step increment (seconds)\n",
    "\n",
    "def two_body(mp,vp0,mm,vm0,r,t,dt):\n",
    "    tim2 = np.arange(1,t,dt)\n",
    "    \n",
    "    x1 = np.array([0]) #where 1 represents mp\n",
    "    y1 = np.array([0])\n",
    "    vx1 = 0\n",
    "    vy1 = vp0 #NOTE TO SOFIA: specify orientaton\n",
    "    \n",
    "    x2 = np.array([r]) #where 2 represents mm\n",
    "    y2 = np.array([0])\n",
    "    vx2 = 0\n",
    "    vy2 = vm0\n",
    " \n",
    "    for i in tim2:    \n",
    "        G = 6.67*10**-11 #units N*m**2/kg**2\n",
    "        \n",
    "        rx1 = x1[-1] #position of mp\n",
    "        ry1 = y1[-1]\n",
    "        \n",
    "        rx2 = x2[-1] #position of mm\n",
    "        ry2 = y2[-1]\n",
    "        \n",
    "        rcurrent = np.sqrt((rx2-rx1)**2+(ry2-ry1**2)) #current distance between bodies\n",
    "        \n",
    "        theta = np.abs(np.arcsin(ry1/rcurrent)) #angle between Force vector and x-axis\n",
    "        Fx1 = -np.sign(rx1) * np.cos(theta)*(G*(mp*mm)/rcurrent**2) #current acting Force\n",
    "        Fy1 = -np.sign(ry1) * np.sin(theta)*(G*(mp*mm)/rcurrent**2)\n",
    "        \n",
    "        omega = np.abs(np.arcsin(ry2/rcurrent)) #angle between Force vector and x-axis\n",
    "        Fx2 = -np.sign(rx2) * np.cos(omega)*(G*(mp*mm)/rcurrent**2) #current acting Force\n",
    "        Fy2 = -np.sign(ry2) * np.sin(omega)*(G*(mp*mm)/rcurrent**2)\n",
    "        \n",
    "        ax1 = Fx1/mp #current acting acceleration, velocity, next pos for mp \n",
    "        ay1 = Fy1/mp\n",
    "        vx1 += ax1 * dt\n",
    "        vy1 += ay1 * dt\n",
    "        rxf1 = rx1 + vx1 * dt \n",
    "        ryf1 = ry1 + vy1 * dt\n",
    "        x1 = np.append(x1,rxf1) #appends next pos to the x1 array\n",
    "        y1 = np.append(y1,ryf1)\n",
    "    \n",
    "        ax2 = Fx2/mm #current acting acceleration, velocity, next pos for mp\n",
    "        ay2 = Fy2/mm\n",
    "        vx2 += ax2 * dt \n",
    "        vy2 += ay2 * dt\n",
    "        rxf2 = rx2 + vx2 * dt\n",
    "        ryf2 = ry2 + vy2 * dt\n",
    "        x12 = np.append(x1,rxf2)\n",
    "        y12 = np.append(y1,ryf2)\n",
    "        \n",
    "        print(theta,omega)\n",
    "        \n",
    "    #return plt.plot(x1,y1,'b.'), plt.plot(x2,y2,'r.'), plt.show()"
   ]
  },
  {
   "cell_type": "code",
   "execution_count": 11,
   "metadata": {},
   "outputs": [
    {
     "name": "stdout",
     "output_type": "stream",
     "text": [
      "0.0 0.0\n",
      "0.00031904268554163855 0.0\n",
      "0.0006380855005778665 0.0\n",
      "0.0009571285746035489 0.0\n",
      "0.0012761720371141025 0.0\n",
      "0.00159521601760577 0.0\n",
      "0.0019142606455758975 0.0\n",
      "0.0022333060505232098 0.0\n",
      "0.0025523523619480843 0.0\n",
      "0.002871399709352829 0.0\n",
      "0.0031904482222419573 0.0\n",
      "0.003509498030122463 0.0\n",
      "0.0038285492625040967 0.0\n",
      "0.004147602048899642 0.0\n",
      "0.004466656518825191 0.0\n",
      "0.00478571280180042 0.0\n",
      "0.00510477102734886 0.0\n",
      "0.005423831324998187 0.0\n",
      "0.0057428938242804805 0.0\n",
      "0.006061958654732509 0.0\n",
      "0.006381025945896005 0.0\n",
      "0.006700095827317942 0.0\n",
      "0.007019168428550805 0.0\n",
      "0.007338243879152871 0.0\n",
      "0.007657322308688484 0.0\n",
      "0.007976403846728333 0.0\n",
      "0.008295488622849716 0.0\n",
      "0.008614576766636843 0.0\n",
      "0.008933668407681082 0.0\n",
      "0.009252763675581251 0.0\n"
     ]
    }
   ],
   "source": [
    "#mp:first mass input (kg)\n",
    "#vp0:initial velocity of mp\n",
    "#mm:second mass input (kg)\n",
    "#vm0:initial velocity of mm\n",
    "#r:initial distance between the two bodies (m)\n",
    "#t:total time the simulation will run (seconds)\n",
    "#dt:time step increment (seconds)\n",
    "\n",
    "two_body(M,ms,M,-ms,d,3600,120)"
   ]
  },
  {
   "cell_type": "markdown",
   "metadata": {},
   "source": [
    "# N-Body Simulator"
   ]
  },
  {
   "cell_type": "code",
   "execution_count": null,
   "metadata": {},
   "outputs": [],
   "source": [
    "#FOR REFERENCE ONLY; see GitHub folder General-Small-Programs for source\n",
    "\n",
    "homework = ()\n",
    "quizzes = ()\n",
    "exams = ()\n",
    "final_exam = \n",
    "#if there is no grade for a category, put 'N/A'\n",
    "hw = np.sum(homework)/len(homework)\n",
    "qz = np.sum(quizzes)/len(quizzes)\n",
    "xms = np.sum(exams)/len(exams) \n",
    "#gets averages of the categories with more than one value\n",
    "percent = np.array([])\n",
    "Grade = np.array([])\n",
    "if type(hw) == np.int32 or type(hw) == np.float64:\n",
    "        percent = np.append(percent,#)\n",
    "        Grade = np.append(Grade,hw)\n",
    "if type(qz) == np.int32 or type(qz) == np.float64:\n",
    "        percent = np.append(percent,#)\n",
    "        Grade = np.append(Grade,qz)\n",
    "if type(xms) == np.int32 or type(xms) == np.float64:\n",
    "        percent = np.append(percent,#)\n",
    "        Grade = np.append(Grade,xms)\n",
    "if type(final_exam) == int or type(final_exam) == float:\n",
    "        percent = np.append(percent,#)\n",
    "        Grade = np.append(Grade,final_exam)\n",
    "ratio = percent/np.sum(percent)\n",
    "Final_Grade = np.sum(Grade*ratio)\n",
    "print(Final_Grade)"
   ]
  },
  {
   "cell_type": "code",
   "execution_count": null,
   "metadata": {},
   "outputs": [],
   "source": [
    "#repurposed code from General-Small-Programs\n",
    "import pandas as pd\n",
    "\n",
    "def NBody():\n",
    "    o = input('How many bodies would you like to simulate? ')\n",
    "    while type(o) == np.int32 or type(hw) == np.float64:\n",
    "        nb = np.arange(1,o+1,1)\n",
    "        pd.df()\n",
    "        for i in nb:\n",
    "            \n",
    "        \n",
    "        \n",
    "        \n",
    "        \n",
    "        print('Please follow the next instructions. If you have not received any grades in a category, please put \"N/A\" ')\n",
    "        hhh = input('Please type the homework grades you have gotten so far seperated by a comma. ')\n",
    "        while hhh != 'N/A' and hhh != 'n/a' and hhh != 'N/a':\n",
    "            hhh = list(map(int,(hhh).split(','))) #Fix placement of this\n",
    "            while type(hhh)!= list:\n",
    "                print('Sorry, I dont understand. For example if your homework is scored out of five, and you got four points on all of them, you will input \"80,80,80,80\"')\n",
    "                print('If you do not have any homework grades to enter, please enter \"N/A\"')\n",
    "                hhh = input('Lets try again. Please type the homework grades you have gotten so far seperated by a comma. ')\n",
    "                hhh = list(map(int,(x).split(',')))\n",
    "                break\n",
    "            if type(hhh)==list:\n",
    "                hhh = np.array(hhh)\n",
    "                ph = float(input('Great, and what percent of your grade is homework worth? '))\n",
    "                hw = np.sum(hhh)/len(hhh)\n",
    "                percent = np.append(percent,ph)\n",
    "                Grade = np.append(Grade,hw)\n",
    "                print('Okay, next question:')\n",
    "        if hhh == 'N/A' or hhh == 'n/a' or hhh == 'N/a':\n",
    "            print('Thats okay. Next question then:')\n",
    "        qqq = input('Please type the quiz grades you have gotten so far seperated by a comma. ')\n",
    "        if qqq == 'N/A' or hhh == 'n/a' or hhh == 'N/a':\n",
    "            print('Thats okay. Next question then:')\n",
    "        else: \n",
    "            qqq = np.array(list(map(int,(qqq).split(','))))\n",
    "            pq = float(input('Great, and what percent of your grade are quizzes worth? '))\n",
    "            qz = np.sum(qqq)/len(qqq)\n",
    "            percent = np.append(percent,pq)\n",
    "            Grade = np.append(Grade,qz)\n",
    "            print('Okay, next question:')\n",
    "        eee = input('Please type the exam grades you have gotten so far seperated by a comma. ')\n",
    "        if eee == 'N/A' or hhh == 'n/a' or hhh == 'N/a':\n",
    "            print('Thats okay. Next question then:')\n",
    "        else: \n",
    "            eee = np.array(list(map(int,(eee).split(','))))\n",
    "            pe = float(input('Great, and what percent of your grade are exams worth? '))\n",
    "            xms = np.sum(eee)/len(eee)\n",
    "            percent = np.append(percent,pe)\n",
    "            Grade = np.append(Grade,xms)\n",
    "            print('Okay, next question:')\n",
    "        idk = input('Have you taken your final exam yet? y/n')\n",
    "        if idk == 'y':\n",
    "            xms = float(input('Please type your final exam score.'))\n",
    "            pf = float(input('Great, and what percent of your grade is the final worth?'))\n",
    "            percent = np.append(percent,pf)\n",
    "            Grade = np.append(Grade,final_exam)\n",
    "        else: \n",
    "            print('Thats okay. Calculating...')\n",
    "        ratio = percent/np.sum(percent)\n",
    "        Final_Grade = np.sum(Grade*ratio)\n",
    "        return plt.plot(stuff)\n",
    "        break"
   ]
  },
  {
   "cell_type": "code",
   "execution_count": null,
   "metadata": {},
   "outputs": [],
   "source": [
    "masses = ()\n",
    "\n",
    "def rt(mp,mm,r,t,dt,v0):  \n",
    "    tim = np.arange(1,t,dt)\n",
    "    \n",
    "    x1 = np.array([r])\n",
    "    y1 = np.array([0])\n",
    "    \n",
    "    vx = 0\n",
    "    vy = v0\n",
    "    \n",
    "    for i in tim:\n",
    "        G = 6.67*10**-11 #units N*m**2/kg**2\n",
    "        \n",
    "        rx = x1[-1] #current position\n",
    "        ry = y1[-1]\n",
    "        \n",
    "        rcurrent = np.sqrt(rx**2 + ry**2) #current distance to origin\n",
    "        theta = np.abs(np.arcsin(ry/rcurrent)) #angle between Force vector and x-axis\n",
    "        Fx = -np.sign(rx) * np.cos(theta)*(G*(mp*mm)/rcurrent**2) #current acting Force\n",
    "        Fy = -np.sign(ry) * np.sin(theta)*(G*(mp*mm)/rcurrent**2)\n",
    "        \n",
    "        ax = Fx/mm #current acting acceleration\n",
    "        ay = Fy/mm\n",
    "        \n",
    "        vx += ax * dt #finds current velocity \n",
    "        vy += ay * dt\n",
    "\n",
    "        rxf = rx + vx * dt #find next position\n",
    "        ryf = ry + vy * dt\n",
    "        \n",
    "        x1 = np.append(x1,rxf)\n",
    "        y1 = np.append(y1,ryf)\n",
    "        \n",
    "        \n",
    "    return plt.plot(x1,y1,'b.'), plt.plot(0,0,'y*')"
   ]
  },
  {
   "cell_type": "code",
   "execution_count": null,
   "metadata": {},
   "outputs": [],
   "source": []
  },
  {
   "cell_type": "code",
   "execution_count": 59,
   "metadata": {},
   "outputs": [
    {
     "ename": "AttributeError",
     "evalue": "'numpy.ndarray' object has no attribute 'split'",
     "output_type": "error",
     "traceback": [
      "\u001b[0;31m---------------------------------------------------------------------------\u001b[0m",
      "\u001b[0;31mAttributeError\u001b[0m                            Traceback (most recent call last)",
      "\u001b[0;32m<ipython-input-59-0f021f82ade3>\u001b[0m in \u001b[0;36m<module>\u001b[0;34m\u001b[0m\n\u001b[0;32m----> 1\u001b[0;31m \u001b[0mx\u001b[0m \u001b[0;34m=\u001b[0m \u001b[0mnp\u001b[0m\u001b[0;34m.\u001b[0m\u001b[0marray\u001b[0m\u001b[0;34m(\u001b[0m\u001b[0;34m[\u001b[0m\u001b[0;36m0\u001b[0m\u001b[0;34m,\u001b[0m\u001b[0;36m1\u001b[0m\u001b[0;34m,\u001b[0m\u001b[0;36m2\u001b[0m\u001b[0;34m,\u001b[0m\u001b[0;36m3\u001b[0m\u001b[0;34m,\u001b[0m\u001b[0;36m4\u001b[0m\u001b[0;34m]\u001b[0m\u001b[0;34m)\u001b[0m\u001b[0;34m.\u001b[0m\u001b[0msplit\u001b[0m\u001b[0;34m\u001b[0m\u001b[0;34m\u001b[0m\u001b[0m\n\u001b[0m\u001b[1;32m      2\u001b[0m \u001b[0mx\u001b[0m\u001b[0;34m\u001b[0m\u001b[0;34m\u001b[0m\u001b[0m\n",
      "\u001b[0;31mAttributeError\u001b[0m: 'numpy.ndarray' object has no attribute 'split'"
     ]
    }
   ],
   "source": []
  },
  {
   "cell_type": "code",
   "execution_count": null,
   "metadata": {},
   "outputs": [],
   "source": []
  },
  {
   "cell_type": "code",
   "execution_count": null,
   "metadata": {},
   "outputs": [],
   "source": []
  }
 ],
 "metadata": {
  "kernelspec": {
   "display_name": "Python 3",
   "language": "python",
   "name": "python3"
  },
  "language_info": {
   "codemirror_mode": {
    "name": "ipython",
    "version": 3
   },
   "file_extension": ".py",
   "mimetype": "text/x-python",
   "name": "python",
   "nbconvert_exporter": "python",
   "pygments_lexer": "ipython3",
   "version": "3.7.6"
  }
 },
 "nbformat": 4,
 "nbformat_minor": 4
}
